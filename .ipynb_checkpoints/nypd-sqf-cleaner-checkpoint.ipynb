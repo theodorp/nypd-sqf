{
 "cells": [
  {
   "cell_type": "code",
   "execution_count": 1,
   "metadata": {
    "collapsed": true
   },
   "outputs": [],
   "source": [
    "import glob\n",
    "import pandas as pd\n",
    "import numpy as np\n",
    "from datetime import datetime\n",
    "from ggplot import *\n",
    "%matplotlib inline"
   ]
  },
  {
   "cell_type": "code",
   "execution_count": 2,
   "metadata": {
    "collapsed": false
   },
   "outputs": [
    {
     "data": {
      "text/html": [
       "<div>\n",
       "<table border=\"1\" class=\"dataframe\">\n",
       "  <thead>\n",
       "    <tr style=\"text-align: right;\">\n",
       "      <th></th>\n",
       "      <th>year</th>\n",
       "      <th>datestop</th>\n",
       "      <th>timestop</th>\n",
       "      <th>frisked</th>\n",
       "      <th>searched</th>\n",
       "      <th>contrabn</th>\n",
       "      <th>sex</th>\n",
       "      <th>race</th>\n",
       "      <th>age</th>\n",
       "    </tr>\n",
       "  </thead>\n",
       "  <tbody>\n",
       "    <tr>\n",
       "      <th>0</th>\n",
       "      <td>2003</td>\n",
       "      <td>1012003</td>\n",
       "      <td>03:00</td>\n",
       "      <td>Y</td>\n",
       "      <td>N</td>\n",
       "      <td>N</td>\n",
       "      <td>M</td>\n",
       "      <td>B</td>\n",
       "      <td>16</td>\n",
       "    </tr>\n",
       "    <tr>\n",
       "      <th>1</th>\n",
       "      <td>2003</td>\n",
       "      <td>1012003</td>\n",
       "      <td>03:00</td>\n",
       "      <td>Y</td>\n",
       "      <td>N</td>\n",
       "      <td>N</td>\n",
       "      <td>M</td>\n",
       "      <td>B</td>\n",
       "      <td>15</td>\n",
       "    </tr>\n",
       "    <tr>\n",
       "      <th>2</th>\n",
       "      <td>2003</td>\n",
       "      <td>1012003</td>\n",
       "      <td>03:00</td>\n",
       "      <td>Y</td>\n",
       "      <td>N</td>\n",
       "      <td>N</td>\n",
       "      <td>M</td>\n",
       "      <td>Q</td>\n",
       "      <td>39</td>\n",
       "    </tr>\n",
       "    <tr>\n",
       "      <th>3</th>\n",
       "      <td>2003</td>\n",
       "      <td>1012003</td>\n",
       "      <td>16:00</td>\n",
       "      <td>N</td>\n",
       "      <td>N</td>\n",
       "      <td>N</td>\n",
       "      <td>F</td>\n",
       "      <td>Q</td>\n",
       "      <td>20</td>\n",
       "    </tr>\n",
       "    <tr>\n",
       "      <th>4</th>\n",
       "      <td>2003</td>\n",
       "      <td>1022003</td>\n",
       "      <td>03:35</td>\n",
       "      <td>Y</td>\n",
       "      <td>N</td>\n",
       "      <td>N</td>\n",
       "      <td>M</td>\n",
       "      <td>B</td>\n",
       "      <td>19</td>\n",
       "    </tr>\n",
       "  </tbody>\n",
       "</table>\n",
       "</div>"
      ],
      "text/plain": [
       "   year datestop timestop frisked searched contrabn sex race age\n",
       "0  2003  1012003    03:00       Y        N        N   M    B  16\n",
       "1  2003  1012003    03:00       Y        N        N   M    B  15\n",
       "2  2003  1012003    03:00       Y        N        N   M    Q  39\n",
       "3  2003  1012003    16:00       N        N        N   F    Q  20\n",
       "4  2003  1022003    03:35       Y        N        N   M    B  19"
      ]
     },
     "execution_count": 2,
     "metadata": {},
     "output_type": "execute_result"
    }
   ],
   "source": [
    "file_list = glob.glob('nypd-sqf-data/*.csv')\n",
    "columns = ['year', 'datestop', 'timestop', 'frisked', 'searched', 'contrabn', 'sex', 'race', 'age']\n",
    "# columns = ['year', 'datestop']\n",
    "\n",
    "df = pd.DataFrame()\n",
    "for file in file_list:\n",
    "#     print(\"Loading into dataframe: \", file)\n",
    "    frame = pd.read_csv(file, usecols=columns, na_values=' ', low_memory=False, nrows=40000)\n",
    "    df = pd.concat([df, frame], ignore_index=True)\n",
    "\n",
    "df.head()"
   ]
  },
  {
   "cell_type": "code",
   "execution_count": 3,
   "metadata": {
    "collapsed": false
   },
   "outputs": [
    {
     "name": "stdout",
     "output_type": "stream",
     "text": [
      "0:00:01.829759\n"
     ]
    },
    {
     "data": {
      "text/html": [
       "<div>\n",
       "<table border=\"1\" class=\"dataframe\">\n",
       "  <thead>\n",
       "    <tr style=\"text-align: right;\">\n",
       "      <th></th>\n",
       "      <th>year</th>\n",
       "      <th>datestop</th>\n",
       "      <th>timestop</th>\n",
       "      <th>datetime</th>\n",
       "    </tr>\n",
       "  </thead>\n",
       "  <tbody>\n",
       "    <tr>\n",
       "      <th>119998</th>\n",
       "      <td>2005</td>\n",
       "      <td>8132005</td>\n",
       "      <td>245</td>\n",
       "      <td>2005-08-13</td>\n",
       "    </tr>\n",
       "    <tr>\n",
       "      <th>119999</th>\n",
       "      <td>2005</td>\n",
       "      <td>8132005</td>\n",
       "      <td>300</td>\n",
       "      <td>2005-08-13</td>\n",
       "    </tr>\n",
       "    <tr>\n",
       "      <th>120000</th>\n",
       "      <td>2006</td>\n",
       "      <td>NaN</td>\n",
       "      <td>NaN</td>\n",
       "      <td>NaT</td>\n",
       "    </tr>\n",
       "    <tr>\n",
       "      <th>120001</th>\n",
       "      <td>2006</td>\n",
       "      <td>NaN</td>\n",
       "      <td>NaN</td>\n",
       "      <td>NaT</td>\n",
       "    </tr>\n",
       "    <tr>\n",
       "      <th>120002</th>\n",
       "      <td>2006</td>\n",
       "      <td>2006-01-01</td>\n",
       "      <td>1410</td>\n",
       "      <td>NaT</td>\n",
       "    </tr>\n",
       "    <tr>\n",
       "      <th>120003</th>\n",
       "      <td>2006</td>\n",
       "      <td>2006-01-01</td>\n",
       "      <td>850</td>\n",
       "      <td>NaT</td>\n",
       "    </tr>\n",
       "    <tr>\n",
       "      <th>120004</th>\n",
       "      <td>2006</td>\n",
       "      <td>2006-01-02</td>\n",
       "      <td>1700</td>\n",
       "      <td>NaT</td>\n",
       "    </tr>\n",
       "  </tbody>\n",
       "</table>\n",
       "</div>"
      ],
      "text/plain": [
       "        year    datestop timestop   datetime\n",
       "119998  2005     8132005      245 2005-08-13\n",
       "119999  2005     8132005      300 2005-08-13\n",
       "120000  2006         NaN      NaN        NaT\n",
       "120001  2006         NaN      NaN        NaT\n",
       "120002  2006  2006-01-01     1410        NaT\n",
       "120003  2006  2006-01-01      850        NaT\n",
       "120004  2006  2006-01-02     1700        NaT"
      ]
     },
     "execution_count": 3,
     "metadata": {},
     "output_type": "execute_result"
    }
   ],
   "source": [
    "tmp = df[['year', 'datestop', 'timestop']].copy()\n",
    "\n",
    "# Method 1: Map All values\n",
    "a = datetime.now()\n",
    "add_zero = lambda x: str(x).zfill(8)\n",
    "tmp['datetime'] = pd.to_datetime(tmp['datestop'].map(add_zero), format=\"%m%d%Y\", errors='coerce')\n",
    "print(datetime.now()-a)\n",
    "\n",
    "tmp[119998:120005]"
   ]
  },
  {
   "cell_type": "code",
   "execution_count": 4,
   "metadata": {
    "collapsed": false
   },
   "outputs": [
    {
     "name": "stdout",
     "output_type": "stream",
     "text": [
      "0:00:51.241680\n"
     ]
    },
    {
     "data": {
      "text/html": [
       "<div>\n",
       "<table border=\"1\" class=\"dataframe\">\n",
       "  <thead>\n",
       "    <tr style=\"text-align: right;\">\n",
       "      <th></th>\n",
       "      <th>year</th>\n",
       "      <th>datestop</th>\n",
       "      <th>timestop</th>\n",
       "      <th>datetime</th>\n",
       "      <th>datetime2</th>\n",
       "    </tr>\n",
       "  </thead>\n",
       "  <tbody>\n",
       "    <tr>\n",
       "      <th>119998</th>\n",
       "      <td>2005</td>\n",
       "      <td>8132005</td>\n",
       "      <td>245</td>\n",
       "      <td>2005-08-13</td>\n",
       "      <td>2005-08-13 00:00:00</td>\n",
       "    </tr>\n",
       "    <tr>\n",
       "      <th>119999</th>\n",
       "      <td>2005</td>\n",
       "      <td>8132005</td>\n",
       "      <td>300</td>\n",
       "      <td>2005-08-13</td>\n",
       "      <td>2005-08-13 00:00:00</td>\n",
       "    </tr>\n",
       "    <tr>\n",
       "      <th>120000</th>\n",
       "      <td>2006</td>\n",
       "      <td>NaN</td>\n",
       "      <td>NaN</td>\n",
       "      <td>NaT</td>\n",
       "      <td>00000nan</td>\n",
       "    </tr>\n",
       "    <tr>\n",
       "      <th>120001</th>\n",
       "      <td>2006</td>\n",
       "      <td>NaN</td>\n",
       "      <td>NaN</td>\n",
       "      <td>NaT</td>\n",
       "      <td>00000nan</td>\n",
       "    </tr>\n",
       "    <tr>\n",
       "      <th>120002</th>\n",
       "      <td>2006</td>\n",
       "      <td>2006-01-01</td>\n",
       "      <td>1410</td>\n",
       "      <td>NaT</td>\n",
       "      <td>2006-01-01</td>\n",
       "    </tr>\n",
       "    <tr>\n",
       "      <th>120003</th>\n",
       "      <td>2006</td>\n",
       "      <td>2006-01-01</td>\n",
       "      <td>850</td>\n",
       "      <td>NaT</td>\n",
       "      <td>2006-01-01</td>\n",
       "    </tr>\n",
       "    <tr>\n",
       "      <th>120004</th>\n",
       "      <td>2006</td>\n",
       "      <td>2006-01-02</td>\n",
       "      <td>1700</td>\n",
       "      <td>NaT</td>\n",
       "      <td>2006-01-02</td>\n",
       "    </tr>\n",
       "  </tbody>\n",
       "</table>\n",
       "</div>"
      ],
      "text/plain": [
       "        year    datestop timestop   datetime            datetime2\n",
       "119998  2005     8132005      245 2005-08-13  2005-08-13 00:00:00\n",
       "119999  2005     8132005      300 2005-08-13  2005-08-13 00:00:00\n",
       "120000  2006         NaN      NaN        NaT             00000nan\n",
       "120001  2006         NaN      NaN        NaT             00000nan\n",
       "120002  2006  2006-01-01     1410        NaT           2006-01-01\n",
       "120003  2006  2006-01-01      850        NaT           2006-01-01\n",
       "120004  2006  2006-01-02     1700        NaT           2006-01-02"
      ]
     },
     "execution_count": 4,
     "metadata": {},
     "output_type": "execute_result"
    }
   ],
   "source": [
    "# Method 2: Map Each Element\n",
    "a = datetime.now()\n",
    "\n",
    "clean_time = lambda x: pd.to_datetime(str(x).zfill(8), format=\"%m%d%Y\", errors='ignore')\n",
    "tmp['datetime2'] = tmp['datestop'].apply(clean_time)\n",
    "\n",
    "print(datetime.now()-a)\n",
    "\n",
    "tmp[119998:120005]"
   ]
  },
  {
   "cell_type": "code",
   "execution_count": 5,
   "metadata": {
    "collapsed": false
   },
   "outputs": [
    {
     "data": {
      "text/plain": [
       "(480000, 5)"
      ]
     },
     "execution_count": 5,
     "metadata": {},
     "output_type": "execute_result"
    }
   ],
   "source": [
    "tmp.shape"
   ]
  },
  {
   "cell_type": "code",
   "execution_count": null,
   "metadata": {
    "collapsed": true
   },
   "outputs": [],
   "source": [
    "# Clean Age Column - Remove ages >100, and <3.\n",
    "df['age'] = pd.to_numeric(df.age, errors='coerce')\n",
    "df['age'] = df['age'].apply(lambda x: np.nan if x > 100 else np.nan if x < 3 else x )"
   ]
  },
  {
   "cell_type": "code",
   "execution_count": null,
   "metadata": {
    "collapsed": false
   },
   "outputs": [],
   "source": [
    "# Drop missing dates, parse 'datestop' into datetime format\n",
    "df = df.dropna(subset=['datestop'])\n",
    "\n",
    "# add_zero = lambda x: str(x).zfill(8)\n",
    "# clean_time = lambda x: pd.to_datetime(x, format=\"%m%d%Y\", errors='ignore')\n",
    "# df['date'] = df['datestop'].map(add_zero).apply(clean_time)\n",
    "\n",
    "clean_time = lambda x: pd.to_datetime(str(x).zfill(8), format=\"%m%d%Y\", errors='ignore')\n",
    "df['date'] = df['datestop'].apply(clean_time)"
   ]
  },
  {
   "cell_type": "code",
   "execution_count": null,
   "metadata": {
    "collapsed": false
   },
   "outputs": [],
   "source": [
    "# Map Y/N values for frisked/searched/contrabn columns\n",
    "df['frisked'] = df['frisked'].map({'Y':1, 'N':0})\n",
    "df['searched'] = df['searched'].map({'Y':1, 'N':0})\n",
    "df['contrabn'] = df['contrabn'].map({'Y':1, 'N':0})\n",
    "\n",
    "#\n",
    "df.head()"
   ]
  },
  {
   "cell_type": "code",
   "execution_count": null,
   "metadata": {
    "collapsed": false
   },
   "outputs": [],
   "source": [
    "# Races of ~90% of people stopped\n",
    "race90 = df.loc[(df.race == 'B') | (df.race == 'P') | (df.race == 'Q') | (df.race == 'W')].copy()\n"
   ]
  },
  {
   "cell_type": "code",
   "execution_count": null,
   "metadata": {
    "collapsed": false
   },
   "outputs": [],
   "source": [
    "for year in range(2003,2015):\n",
    "    print(\"stops in %i\" % year, len(df.loc[(df.year == year)]))"
   ]
  },
  {
   "cell_type": "code",
   "execution_count": null,
   "metadata": {
    "collapsed": true
   },
   "outputs": [],
   "source": []
  }
 ],
 "metadata": {
  "kernelspec": {
   "display_name": "Python 3",
   "language": "python",
   "name": "python3"
  },
  "language_info": {
   "codemirror_mode": {
    "name": "ipython",
    "version": 3
   },
   "file_extension": ".py",
   "mimetype": "text/x-python",
   "name": "python",
   "nbconvert_exporter": "python",
   "pygments_lexer": "ipython3",
   "version": "3.5.0"
  }
 },
 "nbformat": 4,
 "nbformat_minor": 0
}
