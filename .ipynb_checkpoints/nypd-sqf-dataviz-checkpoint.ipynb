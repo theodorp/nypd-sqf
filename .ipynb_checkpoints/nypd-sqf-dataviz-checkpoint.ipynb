{
 "cells": [
  {
   "cell_type": "code",
   "execution_count": 1,
   "metadata": {
    "collapsed": true
   },
   "outputs": [],
   "source": [
    "import glob\n",
    "from datetime import datetime\n",
    "from pandasql import sqldf\n",
    "import pandas as pd\n",
    "from ggplot import *\n",
    "%matplotlib inline\n",
    "\n",
    "pysqldf = lambda q: sqldf(q, globals())"
   ]
  },
  {
   "cell_type": "code",
   "execution_count": 2,
   "metadata": {
    "collapsed": false
   },
   "outputs": [
    {
     "data": {
      "text/html": [
       "<div>\n",
       "<table border=\"1\" class=\"dataframe\">\n",
       "  <thead>\n",
       "    <tr style=\"text-align: right;\">\n",
       "      <th></th>\n",
       "      <th>datestop</th>\n",
       "      <th>race</th>\n",
       "      <th>stops</th>\n",
       "    </tr>\n",
       "  </thead>\n",
       "  <tbody>\n",
       "    <tr>\n",
       "      <th>4372</th>\n",
       "      <td>2006-12-16</td>\n",
       "      <td>Q</td>\n",
       "      <td>5</td>\n",
       "    </tr>\n",
       "    <tr>\n",
       "      <th>1040</th>\n",
       "      <td>1102013</td>\n",
       "      <td>I</td>\n",
       "      <td>5</td>\n",
       "    </tr>\n",
       "    <tr>\n",
       "      <th>1701</th>\n",
       "      <td>1192014</td>\n",
       "      <td>A</td>\n",
       "      <td>8</td>\n",
       "    </tr>\n",
       "    <tr>\n",
       "      <th>780</th>\n",
       "      <td>1072012</td>\n",
       "      <td>U</td>\n",
       "      <td>24</td>\n",
       "    </tr>\n",
       "    <tr>\n",
       "      <th>5419</th>\n",
       "      <td>3122004</td>\n",
       "      <td>B</td>\n",
       "      <td>50</td>\n",
       "    </tr>\n",
       "  </tbody>\n",
       "</table>\n",
       "</div>"
      ],
      "text/plain": [
       "        datestop race  stops\n",
       "4372  2006-12-16    Q      5\n",
       "1040     1102013    I      5\n",
       "1701     1192014    A      8\n",
       "780      1072012    U     24\n",
       "5419     3122004    B     50"
      ]
     },
     "execution_count": 2,
     "metadata": {},
     "output_type": "execute_result"
    }
   ],
   "source": [
    "file_list = glob.glob('nypd-sqf-data/*.csv')\n",
    "cols = ['datestop', 'race']\n",
    "\n",
    "temp_df = pd.DataFrame()\n",
    "for file in file_list:\n",
    "#     print(\"Loading into dataframe: \", file)\n",
    "    frame = pd.read_csv(file, usecols=cols, na_values=' ', low_memory=False, nrows=20000)\n",
    "    frame['total'] = len(frame)\n",
    "    temp_df = pd.concat([temp_df, frame], ignore_index=True)\n",
    "\n",
    "\n",
    "q = \"\"\"\n",
    "SELECT datestop, race, count(*) AS stops\n",
    "FROM temp_df \n",
    "GROUP BY datestop, race\n",
    "\"\"\"\n",
    "\n",
    "df = pysqldf(q)\n",
    "df.sample(5)"
   ]
  },
  {
   "cell_type": "code",
   "execution_count": 3,
   "metadata": {
    "collapsed": false
   },
   "outputs": [],
   "source": [
    "# out_df = df.loc[(df.race == 'B') | (df.race == 'P') | (df.race == 'Q') | (df.race == 'W')].copy()\n",
    "\n",
    "# out_df['race'] = out_df['race'].map({'B':'B','W':'W','P':'H','Q':'H'})\n",
    "\n",
    "# out_df.race.unique()\n",
    "out_df = df.copy()"
   ]
  },
  {
   "cell_type": "code",
   "execution_count": 4,
   "metadata": {
    "collapsed": true
   },
   "outputs": [],
   "source": [
    "add_zero = lambda x: str(x).zfill(8)\n",
    "out_df['datetime'] = pd.to_datetime(out_df['datestop'].map(add_zero), format=\"%m%d%Y\", errors='coerce')\n",
    "out_df.loc[out_df['datetime'].isnull(),'datetime'] = pd.to_datetime(out_df.loc[out_df['datetime'].isnull(),'datestop'])"
   ]
  },
  {
   "cell_type": "code",
   "execution_count": 5,
   "metadata": {
    "collapsed": false
   },
   "outputs": [
    {
     "data": {
      "text/html": [
       "<div>\n",
       "<table border=\"1\" class=\"dataframe\">\n",
       "  <thead>\n",
       "    <tr style=\"text-align: right;\">\n",
       "      <th></th>\n",
       "      <th>race</th>\n",
       "      <th>stops</th>\n",
       "      <th>datetime</th>\n",
       "    </tr>\n",
       "  </thead>\n",
       "  <tbody>\n",
       "    <tr>\n",
       "      <th>4848</th>\n",
       "      <td>Q</td>\n",
       "      <td>39</td>\n",
       "      <td>2014-02-14</td>\n",
       "    </tr>\n",
       "    <tr>\n",
       "      <th>892</th>\n",
       "      <td>Z</td>\n",
       "      <td>10</td>\n",
       "      <td>2004-01-09</td>\n",
       "    </tr>\n",
       "    <tr>\n",
       "      <th>736</th>\n",
       "      <td>A</td>\n",
       "      <td>20</td>\n",
       "      <td>2007-01-07</td>\n",
       "    </tr>\n",
       "    <tr>\n",
       "      <th>4852</th>\n",
       "      <td>B</td>\n",
       "      <td>59</td>\n",
       "      <td>2004-02-15</td>\n",
       "    </tr>\n",
       "    <tr>\n",
       "      <th>1830</th>\n",
       "      <td>Q</td>\n",
       "      <td>27</td>\n",
       "      <td>2005-12-09</td>\n",
       "    </tr>\n",
       "  </tbody>\n",
       "</table>\n",
       "</div>"
      ],
      "text/plain": [
       "     race  stops   datetime\n",
       "4848    Q     39 2014-02-14\n",
       "892     Z     10 2004-01-09\n",
       "736     A     20 2007-01-07\n",
       "4852    B     59 2004-02-15\n",
       "1830    Q     27 2005-12-09"
      ]
     },
     "execution_count": 5,
     "metadata": {},
     "output_type": "execute_result"
    }
   ],
   "source": [
    "out_df = out_df.drop(['datestop'], 1)\n",
    "out_df.sample(5)"
   ]
  },
  {
   "cell_type": "code",
   "execution_count": 16,
   "metadata": {
    "collapsed": false
   },
   "outputs": [],
   "source": [
    "out_df['yearmonth'] = out_df['datetime'].map(lambda x: 100*x.year+x.month)\n",
    "\n",
    "# out_df = out_df.groupby(['yearmonth', 'race'])['stops'].sum().reset_index()\n",
    "\n",
    "# out_df = out_df.loc[(out_df.yearmonth > 200000)]\n",
    "\n",
    "out_df = out_df.dropna(subset=['yearmonth'])\n",
    "out_df = out_df.drop(['datetime'], 1)\n",
    "out_df = out_df.loc[(out_df.yearmonth > 200000)]"
   ]
  },
  {
   "cell_type": "code",
   "execution_count": 27,
   "metadata": {
    "collapsed": false
   },
   "outputs": [
    {
     "data": {
      "text/html": [
       "<div>\n",
       "<table border=\"1\" class=\"dataframe\">\n",
       "  <thead>\n",
       "    <tr style=\"text-align: right;\">\n",
       "      <th></th>\n",
       "      <th>yearmonth</th>\n",
       "      <th>race</th>\n",
       "      <th>stops</th>\n",
       "    </tr>\n",
       "  </thead>\n",
       "  <tbody>\n",
       "    <tr>\n",
       "      <th>0</th>\n",
       "      <td>20030101</td>\n",
       "      <td>B</td>\n",
       "      <td>6413</td>\n",
       "    </tr>\n",
       "    <tr>\n",
       "      <th>1</th>\n",
       "      <td>20030101</td>\n",
       "      <td>H</td>\n",
       "      <td>4077</td>\n",
       "    </tr>\n",
       "    <tr>\n",
       "      <th>2</th>\n",
       "      <td>20030101</td>\n",
       "      <td>W</td>\n",
       "      <td>1642</td>\n",
       "    </tr>\n",
       "    <tr>\n",
       "      <th>3</th>\n",
       "      <td>20030201</td>\n",
       "      <td>B</td>\n",
       "      <td>5110</td>\n",
       "    </tr>\n",
       "    <tr>\n",
       "      <th>4</th>\n",
       "      <td>20030201</td>\n",
       "      <td>H</td>\n",
       "      <td>3283</td>\n",
       "    </tr>\n",
       "  </tbody>\n",
       "</table>\n",
       "</div>"
      ],
      "text/plain": [
       "  yearmonth race  stops\n",
       "0  20030101    B   6413\n",
       "1  20030101    H   4077\n",
       "2  20030101    W   1642\n",
       "3  20030201    B   5110\n",
       "4  20030201    H   3283"
      ]
     },
     "execution_count": 27,
     "metadata": {},
     "output_type": "execute_result"
    }
   ],
   "source": [
    "\n",
    "tmp = out_df.groupby(['yearmonth', 'race'])['stops'].sum().reset_index()\n",
    "tmp['yearmonth'] = tmp['yearmonth'].map(lambda x: str(int(x))+'01')\n",
    "\n",
    "tmp.head()"
   ]
  },
  {
   "cell_type": "code",
   "execution_count": 29,
   "metadata": {
    "collapsed": false
   },
   "outputs": [
    {
     "data": {
      "text/html": [
       "<div>\n",
       "<table border=\"1\" class=\"dataframe\">\n",
       "  <thead>\n",
       "    <tr style=\"text-align: right;\">\n",
       "      <th></th>\n",
       "      <th>yearmonth</th>\n",
       "      <th>race</th>\n",
       "      <th>stops</th>\n",
       "      <th>mtotal</th>\n",
       "    </tr>\n",
       "  </thead>\n",
       "  <tbody>\n",
       "    <tr>\n",
       "      <th>0</th>\n",
       "      <td>20030101</td>\n",
       "      <td>B</td>\n",
       "      <td>6413</td>\n",
       "      <td>12132</td>\n",
       "    </tr>\n",
       "    <tr>\n",
       "      <th>1</th>\n",
       "      <td>20030101</td>\n",
       "      <td>H</td>\n",
       "      <td>4077</td>\n",
       "      <td>12132</td>\n",
       "    </tr>\n",
       "    <tr>\n",
       "      <th>2</th>\n",
       "      <td>20030101</td>\n",
       "      <td>W</td>\n",
       "      <td>1642</td>\n",
       "      <td>12132</td>\n",
       "    </tr>\n",
       "    <tr>\n",
       "      <th>3</th>\n",
       "      <td>20030201</td>\n",
       "      <td>B</td>\n",
       "      <td>5110</td>\n",
       "      <td>9735</td>\n",
       "    </tr>\n",
       "    <tr>\n",
       "      <th>4</th>\n",
       "      <td>20030201</td>\n",
       "      <td>H</td>\n",
       "      <td>3283</td>\n",
       "      <td>9735</td>\n",
       "    </tr>\n",
       "  </tbody>\n",
       "</table>\n",
       "</div>"
      ],
      "text/plain": [
       "  yearmonth race  stops  mtotal\n",
       "0  20030101    B   6413   12132\n",
       "1  20030101    H   4077   12132\n",
       "2  20030101    W   1642   12132\n",
       "3  20030201    B   5110    9735\n",
       "4  20030201    H   3283    9735"
      ]
     },
     "execution_count": 29,
     "metadata": {},
     "output_type": "execute_result"
    }
   ],
   "source": [
    "for month in tmp.yearmonth.unique():\n",
    "    tmp.loc[(tmp.yearmonth == month), 'mtotal'] = sum(tmp.loc[(tmp.yearmonth == month), 'stops'])\n",
    "\n",
    "tmp.head()"
   ]
  },
  {
   "cell_type": "code",
   "execution_count": 30,
   "metadata": {
    "collapsed": false
   },
   "outputs": [
    {
     "data": {
      "text/html": [
       "<div>\n",
       "<table border=\"1\" class=\"dataframe\">\n",
       "  <thead>\n",
       "    <tr style=\"text-align: right;\">\n",
       "      <th></th>\n",
       "      <th>yearmonth</th>\n",
       "      <th>race</th>\n",
       "      <th>prop</th>\n",
       "    </tr>\n",
       "  </thead>\n",
       "  <tbody>\n",
       "    <tr>\n",
       "      <th>0</th>\n",
       "      <td>20030101</td>\n",
       "      <td>B</td>\n",
       "      <td>0.528602</td>\n",
       "    </tr>\n",
       "    <tr>\n",
       "      <th>1</th>\n",
       "      <td>20030101</td>\n",
       "      <td>H</td>\n",
       "      <td>0.336053</td>\n",
       "    </tr>\n",
       "    <tr>\n",
       "      <th>2</th>\n",
       "      <td>20030101</td>\n",
       "      <td>W</td>\n",
       "      <td>0.135345</td>\n",
       "    </tr>\n",
       "    <tr>\n",
       "      <th>3</th>\n",
       "      <td>20030201</td>\n",
       "      <td>B</td>\n",
       "      <td>0.524910</td>\n",
       "    </tr>\n",
       "    <tr>\n",
       "      <th>4</th>\n",
       "      <td>20030201</td>\n",
       "      <td>H</td>\n",
       "      <td>0.337237</td>\n",
       "    </tr>\n",
       "  </tbody>\n",
       "</table>\n",
       "</div>"
      ],
      "text/plain": [
       "  yearmonth race      prop\n",
       "0  20030101    B  0.528602\n",
       "1  20030101    H  0.336053\n",
       "2  20030101    W  0.135345\n",
       "3  20030201    B  0.524910\n",
       "4  20030201    H  0.337237"
      ]
     },
     "execution_count": 30,
     "metadata": {},
     "output_type": "execute_result"
    }
   ],
   "source": [
    "tmp['prop'] = tmp['stops']/tmp['mtotal']\n",
    "\n",
    "tmp = tmp.drop(['stops', 'mtotal'], 1)\n",
    "tmp.head()"
   ]
  },
  {
   "cell_type": "code",
   "execution_count": 31,
   "metadata": {
    "collapsed": true
   },
   "outputs": [],
   "source": [
    "tmp.to_csv('test.csv')"
   ]
  },
  {
   "cell_type": "code",
   "execution_count": null,
   "metadata": {
    "collapsed": true
   },
   "outputs": [],
   "source": []
  }
 ],
 "metadata": {
  "kernelspec": {
   "display_name": "Python 3",
   "language": "python",
   "name": "python3"
  },
  "language_info": {
   "codemirror_mode": {
    "name": "ipython",
    "version": 3
   },
   "file_extension": ".py",
   "mimetype": "text/x-python",
   "name": "python",
   "nbconvert_exporter": "python",
   "pygments_lexer": "ipython3",
   "version": "3.5.0"
  }
 },
 "nbformat": 4,
 "nbformat_minor": 0
}
