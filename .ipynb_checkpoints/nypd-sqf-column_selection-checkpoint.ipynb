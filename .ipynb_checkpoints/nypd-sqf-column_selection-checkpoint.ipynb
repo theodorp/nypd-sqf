{
 "cells": [
  {
   "cell_type": "code",
   "execution_count": 20,
   "metadata": {
    "collapsed": false
   },
   "outputs": [],
   "source": [
    "import glob\n",
    "from itertools import tee\n",
    "import pandas as pd\n",
    "\n",
    "def pairwise(iterable):\n",
    "    \"s -> (s0,s1), (s1,s2), (s2, s3), ...\"\n",
    "    a, b = tee(iterable)\n",
    "    next(b, None)\n",
    "    return zip(a, b)\n",
    "\n",
    "file_list = glob.glob('nypd-sqf-data/*.csv')\n",
    "# file_list = glob.glob('nypd-sqf-file-specs/*.xlsx')\n",
    "\n",
    "\"\"\"Difference in columns between 2 years (e.g. between 2005 and 2006)\"\"\"\n",
    "# for x, y in pairwise(file_list):\n",
    "#     df_x = pd.read_csv(x, nrows=2).columns.values\n",
    "#     df_y = pd.read_csv(y, nrows=2).columns.values\n",
    "# \n",
    "#     s = set(df_x)\n",
    "#     print(x, y, [x for x in df_y if x in s])"
   ]
  },
  {
   "cell_type": "code",
   "execution_count": 28,
   "metadata": {
    "collapsed": false
   },
   "outputs": [
    {
     "name": "stdout",
     "output_type": "stream",
     "text": [
      "{'rf_vcrim', 'cs_furtv', 'rf_bulg', 'pf_baton', 'pf_grnd', 'pf_hands', 'pistol', 'perobs', 'rf_rfcmp', 'ac_time', 'othfeatr', 'comppct', 'ac_cgdir', 'radio', 'cs_lkout', 'asltweap', 'ht_inch', 'ac_inves', 'sb_hdobj', 'rf_attir', 'rf_furt', 'crossst', 'datestop', 'pf_hcuff', 'ac_other', 'crimsusp', 'post', 'typeofid', 'riflshot', 'rf_othsw', 'pf_pepsp', 'sector', 'recstat', 'pf_other', 'sumissue', 'offshld', 'year', 'arstmade', 'othpers', 'dob', 'race', 'frisked', 'adtlrept', 'cs_cloth', 'pf_drwep', 'contrabn', 'zip', 'explnstp', 'searched', 'weight', 'ac_rept', 'rf_knowl', 'ser_num', 'cs_drgtr', 'ac_stsnd', 'sb_outln', 'pct', 'ac_assoc', 'addrtyp', 'age', 'machgun', 'inout', 'othrweap', 'rf_vcact', 'rf_verbl', 'ycoord', 'knifcuti', 'build', 'aptnum', 'offunif', 'offverb', 'xcoord', 'cs_casng', 'sex', 'cs_descr', 'revcmd', 'eyecolor', 'cs_objcs', 'compyear', 'pf_wall', 'sb_admis', 'cs_bulge', 'haircolr', 'state', 'ht_feet', 'perstop', 'ac_evasv', 'ac_proxm', 'city', 'sumoffen', 'beat', 'timestop', 'sb_other', 'pf_ptwep', 'cs_vcrim', 'arstoffn', 'trhsloc', 'repcmd', 'cs_other', 'officrid', 'ac_incid'}\n"
     ]
    }
   ],
   "source": [
    "\"\"\"Prints the common columns between all files\"\"\"\n",
    "common_col = []\n",
    "for file in file_list:\n",
    "        common_col.append(pd.read_csv(file, nrows=1).columns.values)\n",
    "        \n",
    "result = set(common_col[0])\n",
    "for s in common_col[1:]:\n",
    "    result.intersection_update(s)\n",
    "print(result)        "
   ]
  },
  {
   "cell_type": "code",
   "execution_count": null,
   "metadata": {
    "collapsed": true
   },
   "outputs": [],
   "source": []
  }
 ],
 "metadata": {
  "kernelspec": {
   "display_name": "Python 3",
   "language": "python",
   "name": "python3"
  },
  "language_info": {
   "codemirror_mode": {
    "name": "ipython",
    "version": 3
   },
   "file_extension": ".py",
   "mimetype": "text/x-python",
   "name": "python",
   "nbconvert_exporter": "python",
   "pygments_lexer": "ipython3",
   "version": "3.5.0"
  }
 },
 "nbformat": 4,
 "nbformat_minor": 0
}
