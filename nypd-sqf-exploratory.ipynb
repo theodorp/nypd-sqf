{
 "cells": [
  {
   "cell_type": "code",
   "execution_count": 4,
   "metadata": {
    "collapsed": false
   },
   "outputs": [],
   "source": [
    "import glob\n",
    "import pandas as pd\n",
    "import numpy as np\n",
    "from datetime import datetime\n",
    "from ggplot import *\n",
    "%matplotlib inline"
   ]
  },
  {
   "cell_type": "code",
   "execution_count": 5,
   "metadata": {
    "collapsed": false
   },
   "outputs": [],
   "source": [
    "file_list = glob.glob('nypd-sqf-data/*.csv')\n",
    "# columns = ['year', 'datestop', 'timestop', 'frisked', 'searched', 'contrabn', 'sex', 'race', 'age', 'xcoord', 'ycoord']\n",
    "# columns = ['year', 'datestop']\n",
    "columns = ['year', 'city', 'race', 'sector']\n",
    "\n",
    "df = pd.DataFrame()\n",
    "for file in file_list:\n",
    "#     print(\"Loading into dataframe: \", file)\n",
    "    frame = pd.read_csv(file, usecols=columns, na_values=' ', low_memory=False, nrows=2500)\n",
    "    frame['total'] = len(frame)\n",
    "    df = pd.concat([df, frame], ignore_index=True)\n",
    "\n"
   ]
  },
  {
   "cell_type": "code",
   "execution_count": 7,
   "metadata": {
    "collapsed": false
   },
   "outputs": [
    {
     "data": {
      "text/html": [
       "<div>\n",
       "<table border=\"1\" class=\"dataframe\">\n",
       "  <thead>\n",
       "    <tr style=\"text-align: right;\">\n",
       "      <th></th>\n",
       "      <th>city</th>\n",
       "      <th>race</th>\n",
       "      <th>sector</th>\n",
       "      <th>total</th>\n",
       "      <th>year</th>\n",
       "    </tr>\n",
       "  </thead>\n",
       "  <tbody>\n",
       "    <tr>\n",
       "      <th>14760</th>\n",
       "      <td>MANHATTAN</td>\n",
       "      <td>B</td>\n",
       "      <td>E</td>\n",
       "      <td>2500</td>\n",
       "      <td>2008</td>\n",
       "    </tr>\n",
       "    <tr>\n",
       "      <th>142</th>\n",
       "      <td>NaN</td>\n",
       "      <td>B</td>\n",
       "      <td>NaN</td>\n",
       "      <td>2500</td>\n",
       "      <td>2003</td>\n",
       "    </tr>\n",
       "    <tr>\n",
       "      <th>22222</th>\n",
       "      <td>BRONX</td>\n",
       "      <td>B</td>\n",
       "      <td>A</td>\n",
       "      <td>2500</td>\n",
       "      <td>2011</td>\n",
       "    </tr>\n",
       "    <tr>\n",
       "      <th>19212</th>\n",
       "      <td>QUEENS</td>\n",
       "      <td>Q</td>\n",
       "      <td>F</td>\n",
       "      <td>2500</td>\n",
       "      <td>2010</td>\n",
       "    </tr>\n",
       "    <tr>\n",
       "      <th>17361</th>\n",
       "      <td>QUEENS</td>\n",
       "      <td>B</td>\n",
       "      <td>D</td>\n",
       "      <td>2500</td>\n",
       "      <td>2009</td>\n",
       "    </tr>\n",
       "    <tr>\n",
       "      <th>23401</th>\n",
       "      <td>BROOKLYN</td>\n",
       "      <td>B</td>\n",
       "      <td>D</td>\n",
       "      <td>2500</td>\n",
       "      <td>2012</td>\n",
       "    </tr>\n",
       "    <tr>\n",
       "      <th>11236</th>\n",
       "      <td>QUEENS</td>\n",
       "      <td>W</td>\n",
       "      <td>I</td>\n",
       "      <td>2500</td>\n",
       "      <td>2007</td>\n",
       "    </tr>\n",
       "    <tr>\n",
       "      <th>5665</th>\n",
       "      <td>QUEENS</td>\n",
       "      <td>B</td>\n",
       "      <td>NaN</td>\n",
       "      <td>2500</td>\n",
       "      <td>2005</td>\n",
       "    </tr>\n",
       "    <tr>\n",
       "      <th>1993</th>\n",
       "      <td>NaN</td>\n",
       "      <td>Q</td>\n",
       "      <td>NaN</td>\n",
       "      <td>2500</td>\n",
       "      <td>2003</td>\n",
       "    </tr>\n",
       "    <tr>\n",
       "      <th>14463</th>\n",
       "      <td>QUEENS</td>\n",
       "      <td>B</td>\n",
       "      <td>I</td>\n",
       "      <td>2500</td>\n",
       "      <td>2008</td>\n",
       "    </tr>\n",
       "    <tr>\n",
       "      <th>8005</th>\n",
       "      <td>MANHATTAN</td>\n",
       "      <td>B</td>\n",
       "      <td>B</td>\n",
       "      <td>2500</td>\n",
       "      <td>2006</td>\n",
       "    </tr>\n",
       "    <tr>\n",
       "      <th>2119</th>\n",
       "      <td>NaN</td>\n",
       "      <td>Z</td>\n",
       "      <td>NaN</td>\n",
       "      <td>2500</td>\n",
       "      <td>2003</td>\n",
       "    </tr>\n",
       "    <tr>\n",
       "      <th>20630</th>\n",
       "      <td>BRONX</td>\n",
       "      <td>Q</td>\n",
       "      <td>D</td>\n",
       "      <td>2500</td>\n",
       "      <td>2011</td>\n",
       "    </tr>\n",
       "    <tr>\n",
       "      <th>25820</th>\n",
       "      <td>QUEENS</td>\n",
       "      <td>W</td>\n",
       "      <td>J</td>\n",
       "      <td>2500</td>\n",
       "      <td>2013</td>\n",
       "    </tr>\n",
       "    <tr>\n",
       "      <th>964</th>\n",
       "      <td>NaN</td>\n",
       "      <td>W</td>\n",
       "      <td>NaN</td>\n",
       "      <td>2500</td>\n",
       "      <td>2003</td>\n",
       "    </tr>\n",
       "    <tr>\n",
       "      <th>13375</th>\n",
       "      <td>BRONX</td>\n",
       "      <td>Z</td>\n",
       "      <td>C</td>\n",
       "      <td>2500</td>\n",
       "      <td>2008</td>\n",
       "    </tr>\n",
       "    <tr>\n",
       "      <th>8303</th>\n",
       "      <td>MANHATTAN</td>\n",
       "      <td>Q</td>\n",
       "      <td>G</td>\n",
       "      <td>2500</td>\n",
       "      <td>2006</td>\n",
       "    </tr>\n",
       "    <tr>\n",
       "      <th>18172</th>\n",
       "      <td>QUEENS</td>\n",
       "      <td>B</td>\n",
       "      <td>E</td>\n",
       "      <td>2500</td>\n",
       "      <td>2010</td>\n",
       "    </tr>\n",
       "    <tr>\n",
       "      <th>8627</th>\n",
       "      <td>MANHATTAN</td>\n",
       "      <td>B</td>\n",
       "      <td>E</td>\n",
       "      <td>2500</td>\n",
       "      <td>2006</td>\n",
       "    </tr>\n",
       "    <tr>\n",
       "      <th>21609</th>\n",
       "      <td>MANHATTAN</td>\n",
       "      <td>Q</td>\n",
       "      <td>E</td>\n",
       "      <td>2500</td>\n",
       "      <td>2011</td>\n",
       "    </tr>\n",
       "    <tr>\n",
       "      <th>11605</th>\n",
       "      <td>BROOKLYN</td>\n",
       "      <td>Z</td>\n",
       "      <td>D</td>\n",
       "      <td>2500</td>\n",
       "      <td>2007</td>\n",
       "    </tr>\n",
       "    <tr>\n",
       "      <th>25754</th>\n",
       "      <td>QUEENS</td>\n",
       "      <td>B</td>\n",
       "      <td>H</td>\n",
       "      <td>2500</td>\n",
       "      <td>2013</td>\n",
       "    </tr>\n",
       "    <tr>\n",
       "      <th>26947</th>\n",
       "      <td>STATEN IS</td>\n",
       "      <td>B</td>\n",
       "      <td>C</td>\n",
       "      <td>2500</td>\n",
       "      <td>2013</td>\n",
       "    </tr>\n",
       "    <tr>\n",
       "      <th>541</th>\n",
       "      <td>NaN</td>\n",
       "      <td>B</td>\n",
       "      <td>NaN</td>\n",
       "      <td>2500</td>\n",
       "      <td>2003</td>\n",
       "    </tr>\n",
       "    <tr>\n",
       "      <th>3026</th>\n",
       "      <td>NaN</td>\n",
       "      <td>B</td>\n",
       "      <td>NaN</td>\n",
       "      <td>2500</td>\n",
       "      <td>2004</td>\n",
       "    </tr>\n",
       "  </tbody>\n",
       "</table>\n",
       "</div>"
      ],
      "text/plain": [
       "            city race sector  total  year\n",
       "14760  MANHATTAN    B      E   2500  2008\n",
       "142          NaN    B    NaN   2500  2003\n",
       "22222      BRONX    B      A   2500  2011\n",
       "19212     QUEENS    Q      F   2500  2010\n",
       "17361     QUEENS    B      D   2500  2009\n",
       "23401   BROOKLYN    B      D   2500  2012\n",
       "11236     QUEENS    W      I   2500  2007\n",
       "5665      QUEENS    B    NaN   2500  2005\n",
       "1993         NaN    Q    NaN   2500  2003\n",
       "14463     QUEENS    B      I   2500  2008\n",
       "8005   MANHATTAN    B      B   2500  2006\n",
       "2119         NaN    Z    NaN   2500  2003\n",
       "20630      BRONX    Q      D   2500  2011\n",
       "25820     QUEENS    W      J   2500  2013\n",
       "964          NaN    W    NaN   2500  2003\n",
       "13375      BRONX    Z      C   2500  2008\n",
       "8303   MANHATTAN    Q      G   2500  2006\n",
       "18172     QUEENS    B      E   2500  2010\n",
       "8627   MANHATTAN    B      E   2500  2006\n",
       "21609  MANHATTAN    Q      E   2500  2011\n",
       "11605   BROOKLYN    Z      D   2500  2007\n",
       "25754     QUEENS    B      H   2500  2013\n",
       "26947  STATEN IS    B      C   2500  2013\n",
       "541          NaN    B    NaN   2500  2003\n",
       "3026         NaN    B    NaN   2500  2004"
      ]
     },
     "execution_count": 7,
     "metadata": {},
     "output_type": "execute_result"
    }
   ],
   "source": [
    "df.sample(25)"
   ]
  },
  {
   "cell_type": "code",
   "execution_count": 10,
   "metadata": {
    "collapsed": false
   },
   "outputs": [],
   "source": [
    "cities = df.loc[(df.race == 'B') | (df.race == 'P') | (df.race == 'Q') | (df.race == 'W')].copy()\n",
    "cities = cities.dropna()\n",
    "cities.city = cities.city.map(lambda x: x.lower().split()[0])"
   ]
  },
  {
   "cell_type": "code",
   "execution_count": 12,
   "metadata": {
    "collapsed": false
   },
   "outputs": [
    {
     "data": {
      "text/html": [
       "<div>\n",
       "<table border=\"1\" class=\"dataframe\">\n",
       "  <thead>\n",
       "    <tr style=\"text-align: right;\">\n",
       "      <th></th>\n",
       "      <th>year</th>\n",
       "      <th>race</th>\n",
       "      <th>city</th>\n",
       "      <th>total</th>\n",
       "    </tr>\n",
       "  </thead>\n",
       "  <tbody>\n",
       "    <tr>\n",
       "      <th>25006</th>\n",
       "      <td>2004</td>\n",
       "      <td>B</td>\n",
       "      <td>brooklyn</td>\n",
       "      <td>25000</td>\n",
       "    </tr>\n",
       "    <tr>\n",
       "      <th>25027</th>\n",
       "      <td>2004</td>\n",
       "      <td>B</td>\n",
       "      <td>brooklyn</td>\n",
       "      <td>25000</td>\n",
       "    </tr>\n",
       "    <tr>\n",
       "      <th>25028</th>\n",
       "      <td>2004</td>\n",
       "      <td>B</td>\n",
       "      <td>brooklyn</td>\n",
       "      <td>25000</td>\n",
       "    </tr>\n",
       "    <tr>\n",
       "      <th>25029</th>\n",
       "      <td>2004</td>\n",
       "      <td>B</td>\n",
       "      <td>brooklyn</td>\n",
       "      <td>25000</td>\n",
       "    </tr>\n",
       "    <tr>\n",
       "      <th>25030</th>\n",
       "      <td>2004</td>\n",
       "      <td>B</td>\n",
       "      <td>brooklyn</td>\n",
       "      <td>25000</td>\n",
       "    </tr>\n",
       "  </tbody>\n",
       "</table>\n",
       "</div>"
      ],
      "text/plain": [
       "       year race      city  total\n",
       "25006  2004    B  brooklyn  25000\n",
       "25027  2004    B  brooklyn  25000\n",
       "25028  2004    B  brooklyn  25000\n",
       "25029  2004    B  brooklyn  25000\n",
       "25030  2004    B  brooklyn  25000"
      ]
     },
     "execution_count": 12,
     "metadata": {},
     "output_type": "execute_result"
    }
   ],
   "source": [
    "cities.head()"
   ]
  },
  {
   "cell_type": "code",
   "execution_count": 23,
   "metadata": {
    "collapsed": false
   },
   "outputs": [],
   "source": [
    "tmp = cities.groupby(['year', 'city', 'race']).count()"
   ]
  },
  {
   "cell_type": "code",
   "execution_count": 27,
   "metadata": {
    "collapsed": false
   },
   "outputs": [],
   "source": [
    "tmp = tmp.reset_index()"
   ]
  },
  {
   "cell_type": "code",
   "execution_count": 33,
   "metadata": {
    "collapsed": false
   },
   "outputs": [],
   "source": [
    "for year in tmp.year.unique():\n",
    "    tmp.loc[(tmp.year == year), 'total_y'] = tmp.loc[(tmp.year == year), 'total'].sum()"
   ]
  },
  {
   "cell_type": "code",
   "execution_count": 36,
   "metadata": {
    "collapsed": false
   },
   "outputs": [],
   "source": [
    "tmp['prop'] = tmp['total']/tmp['total_y']"
   ]
  },
  {
   "cell_type": "code",
   "execution_count": 37,
   "metadata": {
    "collapsed": false
   },
   "outputs": [
    {
     "data": {
      "text/html": [
       "<div>\n",
       "<table border=\"1\" class=\"dataframe\">\n",
       "  <thead>\n",
       "    <tr style=\"text-align: right;\">\n",
       "      <th></th>\n",
       "      <th>year</th>\n",
       "      <th>city</th>\n",
       "      <th>race</th>\n",
       "      <th>total</th>\n",
       "      <th>total_y</th>\n",
       "      <th>prop</th>\n",
       "    </tr>\n",
       "  </thead>\n",
       "  <tbody>\n",
       "    <tr>\n",
       "      <th>0</th>\n",
       "      <td>2004</td>\n",
       "      <td>brooklyn</td>\n",
       "      <td>B</td>\n",
       "      <td>1169</td>\n",
       "      <td>1622</td>\n",
       "      <td>0.720715</td>\n",
       "    </tr>\n",
       "    <tr>\n",
       "      <th>1</th>\n",
       "      <td>2004</td>\n",
       "      <td>brooklyn</td>\n",
       "      <td>P</td>\n",
       "      <td>74</td>\n",
       "      <td>1622</td>\n",
       "      <td>0.045623</td>\n",
       "    </tr>\n",
       "    <tr>\n",
       "      <th>2</th>\n",
       "      <td>2004</td>\n",
       "      <td>brooklyn</td>\n",
       "      <td>Q</td>\n",
       "      <td>323</td>\n",
       "      <td>1622</td>\n",
       "      <td>0.199137</td>\n",
       "    </tr>\n",
       "    <tr>\n",
       "      <th>3</th>\n",
       "      <td>2004</td>\n",
       "      <td>brooklyn</td>\n",
       "      <td>W</td>\n",
       "      <td>56</td>\n",
       "      <td>1622</td>\n",
       "      <td>0.034525</td>\n",
       "    </tr>\n",
       "    <tr>\n",
       "      <th>4</th>\n",
       "      <td>2005</td>\n",
       "      <td>brooklyn</td>\n",
       "      <td>B</td>\n",
       "      <td>11713</td>\n",
       "      <td>22988</td>\n",
       "      <td>0.509527</td>\n",
       "    </tr>\n",
       "  </tbody>\n",
       "</table>\n",
       "</div>"
      ],
      "text/plain": [
       "   year      city race  total  total_y      prop\n",
       "0  2004  brooklyn    B   1169     1622  0.720715\n",
       "1  2004  brooklyn    P     74     1622  0.045623\n",
       "2  2004  brooklyn    Q    323     1622  0.199137\n",
       "3  2004  brooklyn    W     56     1622  0.034525\n",
       "4  2005  brooklyn    B  11713    22988  0.509527"
      ]
     },
     "execution_count": 37,
     "metadata": {},
     "output_type": "execute_result"
    }
   ],
   "source": [
    "tmp.head()"
   ]
  },
  {
   "cell_type": "code",
   "execution_count": 43,
   "metadata": {
    "collapsed": false
   },
   "outputs": [],
   "source": [
    "tmp_b = tmp.loc[(tmp.race == 'B')]"
   ]
  },
  {
   "cell_type": "code",
   "execution_count": 56,
   "metadata": {
    "collapsed": false
   },
   "outputs": [],
   "source": [
    "xx = tmp_b.groupby(['year'])['total'].sum().reset_index()"
   ]
  },
  {
   "cell_type": "code",
   "execution_count": 59,
   "metadata": {
    "collapsed": false
   },
   "outputs": [
    {
     "data": {
      "image/png": "[encoded data removed]",
      "text/plain": [
       "<matplotlib.figure.Figure at 0x110c8df28>"
      ]
     },
     "metadata": {},
     "output_type": "display_data"
    },
    {
     "data": {
      "text/plain": [
       "<ggplot: (286043070)>"
      ]
     },
     "execution_count": 59,
     "metadata": {},
     "output_type": "execute_result"
    }
   ],
   "source": [
    "ggplot(aes(x ='year', y='total'), xx) + geom_line()"
   ]
  },
  {
   "cell_type": "code",
   "execution_count": null,
   "metadata": {
    "collapsed": true
   },
   "outputs": [],
   "source": []
  }
 ],
 "metadata": {
  "kernelspec": {
   "display_name": "Python 3",
   "language": "python",
   "name": "python3"
  },
  "language_info": {
   "codemirror_mode": {
    "name": "ipython",
    "version": 3
   },
   "file_extension": ".py",
   "mimetype": "text/x-python",
   "name": "python",
   "nbconvert_exporter": "python",
   "pygments_lexer": "ipython3",
   "version": "3.5.0"
  }
 },
 "nbformat": 4,
 "nbformat_minor": 0
}
