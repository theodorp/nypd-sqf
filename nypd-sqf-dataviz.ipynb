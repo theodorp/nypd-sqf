{
 "cells": [
  {
   "cell_type": "code",
   "execution_count": null,
   "metadata": {
    "collapsed": true
   },
   "outputs": [],
   "source": [
    "import glob\n",
    "from datetime import datetime\n",
    "from pandasql import sqldf\n",
    "import pandas as pd\n",
    "from ggplot import *\n",
    "%matplotlib inline\n",
    "\n",
    "pysqldf = lambda q: sqldf(q, globals())"
   ]
  },
  {
   "cell_type": "code",
   "execution_count": null,
   "metadata": {
    "collapsed": false
   },
   "outputs": [],
   "source": [
    "file_list = glob.glob('nypd-sqf-data/*.csv')\n",
    "cols = ['datestop', 'race']\n",
    "\n",
    "temp_df = pd.DataFrame()\n",
    "for file in file_list:\n",
    "#     print(\"Loading into dataframe: \", file)\n",
    "    frame = pd.read_csv(file, usecols=cols, na_values=' ', low_memory=False)\n",
    "    frame['total'] = len(frame)\n",
    "    temp_df = pd.concat([temp_df, frame], ignore_index=True)\n",
    "\n",
    "\n",
    "q = \"\"\"\n",
    "SELECT datestop, race, count(*) AS stops\n",
    "FROM temp_df \n",
    "GROUP BY datestop, race\n",
    "\"\"\"\n",
    "\n",
    "df = pysqldf(q)\n",
    "df.sample(5)"
   ]
  },
  {
   "cell_type": "code",
   "execution_count": null,
   "metadata": {
    "collapsed": false
   },
   "outputs": [],
   "source": [
    "ggplot(aes('race'), temp_df) + geom_histogram()"
   ]
  },
  {
   "cell_type": "code",
   "execution_count": null,
   "metadata": {
    "collapsed": false
   },
   "outputs": [],
   "source": [
    "out_df = df.loc[(df.race.str.contains(\"A|B|P|Q|W|Z\")) & (df.race.notnull())].copy()\n",
    "\n",
    "add_zero = lambda x: str(x).zfill(8)\n",
    "out_df['datetime'] = pd.to_datetime(out_df['datestop'].map(add_zero), format=\"%m%d%Y\", errors='coerce')\n",
    "out_df.loc[out_df['datetime'].isnull(),'datetime'] = pd.to_datetime(out_df.loc[out_df['datetime'].isnull(),'datestop'])"
   ]
  },
  {
   "cell_type": "code",
   "execution_count": null,
   "metadata": {
    "collapsed": false
   },
   "outputs": [],
   "source": [
    "# Fix Dates\n",
    "out_df = out_df.drop(['datestop'], 1)\n",
    "out_df = out_df.dropna(subset=['datetime'])\n",
    "out_df = out_df.loc[(out_df.datetime > '2000-01-01')]\n",
    "out_df.head()"
   ]
  },
  {
   "cell_type": "code",
   "execution_count": null,
   "metadata": {
    "collapsed": false
   },
   "outputs": [],
   "source": [
    "# out_df.info()\n",
    "ggplot(aes(x='datetime', y='stops', color='race'), out_df) + geom_line() "
   ]
  },
  {
   "cell_type": "code",
   "execution_count": null,
   "metadata": {
    "collapsed": true
   },
   "outputs": [],
   "source": [
    "out_df['monthly'] = pd.to_datetime(out_df['datetime'].map(lambda x: str(x.year)+'/'+str(x.month)+'/01'))"
   ]
  },
  {
   "cell_type": "code",
   "execution_count": null,
   "metadata": {
    "collapsed": false
   },
   "outputs": [],
   "source": [
    "out_df.groupby(['monthly', 'race'])['stops'].sum().reset_index()\n",
    "\n",
    "# # out_df = out_df.loc[(out_df.yearmonth > 200000)]\n",
    "\n",
    "# out_df = out_df.dropna(subset=['yearmonth'])\n",
    "# out_df = out_df.drop(['datetime'], 1)\n",
    "# out_df = out_df.loc[(out_df.yearmonth > 200000)]"
   ]
  },
  {
   "cell_type": "code",
   "execution_count": null,
   "metadata": {
    "collapsed": false
   },
   "outputs": [],
   "source": [
    "out_df = out_df.drop(['datetime'], 1)\n",
    "out_df = out_df.dropna(subset=['race'])"
   ]
  },
  {
   "cell_type": "code",
   "execution_count": null,
   "metadata": {
    "collapsed": false
   },
   "outputs": [],
   "source": [
    "tmp = out_df.groupby(['yearmonth', 'race'])['stops'].sum().reset_index()\n",
    "tmp.head()"
   ]
  },
  {
   "cell_type": "code",
   "execution_count": null,
   "metadata": {
    "collapsed": true
   },
   "outputs": [],
   "source": [
    "tmp = tmp.loc[(tmp.yearmonth > '2000-01-01')]"
   ]
  },
  {
   "cell_type": "code",
   "execution_count": null,
   "metadata": {
    "collapsed": false
   },
   "outputs": [],
   "source": [
    "ggplot(aes(x='yearmonth', y='stops', color='race'), tmp) + geom_line()"
   ]
  },
  {
   "cell_type": "code",
   "execution_count": null,
   "metadata": {
    "collapsed": false
   },
   "outputs": [],
   "source": [
    "\n",
    "tmp = out_df.groupby(['yearmonth', 'race'])['stops'].sum().reset_index()\n",
    "tmp['yearmonth'] = tmp['yearmonth'].map(lambda x: str(int(x))+'01')\n",
    "\n",
    "tmp.head()"
   ]
  },
  {
   "cell_type": "code",
   "execution_count": null,
   "metadata": {
    "collapsed": false
   },
   "outputs": [],
   "source": [
    "for month in tmp.yearmonth.unique():\n",
    "    tmp.loc[(tmp.yearmonth == month), 'mtotal'] = sum(tmp.loc[(tmp.yearmonth == month), 'stops'])\n",
    "\n",
    "tmp.head()"
   ]
  },
  {
   "cell_type": "code",
   "execution_count": null,
   "metadata": {
    "collapsed": false
   },
   "outputs": [],
   "source": [
    "tmp['prop'] = tmp['stops']/tmp['mtotal']\n",
    "\n",
    "tmp = tmp.drop(['stops', 'mtotal'], 1)\n",
    "tmp.head()"
   ]
  },
  {
   "cell_type": "code",
   "execution_count": null,
   "metadata": {
    "collapsed": true
   },
   "outputs": [],
   "source": [
    "tmp.to_csv('test.csv')"
   ]
  },
  {
   "cell_type": "code",
   "execution_count": null,
   "metadata": {
    "collapsed": true
   },
   "outputs": [],
   "source": []
  }
 ],
 "metadata": {
  "kernelspec": {
   "display_name": "Python 3",
   "language": "python",
   "name": "python3"
  },
  "language_info": {
   "codemirror_mode": {
    "name": "ipython",
    "version": 3
   },
   "file_extension": ".py",
   "mimetype": "text/x-python",
   "name": "python",
   "nbconvert_exporter": "python",
   "pygments_lexer": "ipython3",
   "version": "3.5.0"
  }
 },
 "nbformat": 4,
 "nbformat_minor": 0
}
