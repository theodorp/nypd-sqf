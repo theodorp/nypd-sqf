{
 "cells": [
  {
   "cell_type": "code",
   "execution_count": 1,
   "metadata": {
    "collapsed": true
   },
   "outputs": [],
   "source": [
    "import glob\n",
    "from datetime import datetime\n",
    "from pandasql import sqldf\n",
    "import pandas as pd\n",
    "from ggplot import *\n",
    "%matplotlib inline\n",
    "\n",
    "pysqldf = lambda q: sqldf(q, globals())"
   ]
  },
  {
   "cell_type": "code",
   "execution_count": 2,
   "metadata": {
    "collapsed": true
   },
   "outputs": [],
   "source": [
    "# Load specified columns of all CSV's into a DataFrame\n",
    "\n",
    "file_list = glob.glob('nypd-sqf-data/*.csv')\n",
    "cols = ['datestop', 'race', 'frisked', 'searched', 'contrabn']\n",
    "\n",
    "dataset = pd.DataFrame()\n",
    "for file in file_list:\n",
    "#     print(\"Loading into dataframe: \", file)\n",
    "    frame = pd.read_csv(file, usecols=cols, na_values=' ', low_memory=False)\n",
    "#     frame['total'] = len(frame)\n",
    "    dataset = pd.concat([dataset, frame], ignore_index=True)"
   ]
  },
  {
   "cell_type": "code",
   "execution_count": 3,
   "metadata": {
    "collapsed": false
   },
   "outputs": [
    {
     "data": {
      "image/png": "[encoded data removed]",
      "text/plain": [
       "<matplotlib.figure.Figure at 0x11153f8d0>"
      ]
     },
     "metadata": {},
     "output_type": "display_data"
    },
    {
     "data": {
      "text/plain": [
       "<ggplot: (-9223372036574542094)>"
      ]
     },
     "execution_count": 3,
     "metadata": {},
     "output_type": "execute_result"
    }
   ],
   "source": [
    "# View Histogram of Different Races\n",
    "ggplot(aes('race'), dataset) + geom_histogram()"
   ]
  },
  {
   "cell_type": "code",
   "execution_count": 4,
   "metadata": {
    "collapsed": false
   },
   "outputs": [
    {
     "data": {
      "text/html": [
       "<div>\n",
       "<table border=\"1\" class=\"dataframe\">\n",
       "  <thead>\n",
       "    <tr style=\"text-align: right;\">\n",
       "      <th></th>\n",
       "      <th>datestop</th>\n",
       "      <th>race</th>\n",
       "      <th>stops</th>\n",
       "    </tr>\n",
       "  </thead>\n",
       "  <tbody>\n",
       "    <tr>\n",
       "      <th>0</th>\n",
       "      <td>None</td>\n",
       "      <td>B</td>\n",
       "      <td>2</td>\n",
       "    </tr>\n",
       "    <tr>\n",
       "      <th>1</th>\n",
       "      <td>10012003</td>\n",
       "      <td>A</td>\n",
       "      <td>13</td>\n",
       "    </tr>\n",
       "    <tr>\n",
       "      <th>2</th>\n",
       "      <td>10012003</td>\n",
       "      <td>B</td>\n",
       "      <td>257</td>\n",
       "    </tr>\n",
       "    <tr>\n",
       "      <th>3</th>\n",
       "      <td>10012003</td>\n",
       "      <td>P</td>\n",
       "      <td>24</td>\n",
       "    </tr>\n",
       "    <tr>\n",
       "      <th>4</th>\n",
       "      <td>10012003</td>\n",
       "      <td>Q</td>\n",
       "      <td>150</td>\n",
       "    </tr>\n",
       "  </tbody>\n",
       "</table>\n",
       "</div>"
      ],
      "text/plain": [
       "   datestop race  stops\n",
       "0      None    B      2\n",
       "1  10012003    A     13\n",
       "2  10012003    B    257\n",
       "3  10012003    P     24\n",
       "4  10012003    Q    150"
      ]
     },
     "execution_count": 4,
     "metadata": {},
     "output_type": "execute_result"
    }
   ],
   "source": [
    "# q = \"\"\"\n",
    "# SELECT datestop, race, frisked, searched, contrabn, count(*) AS stops\n",
    "# FROM dataset \n",
    "# GROUP BY datestop, race\n",
    "# \"\"\"\n",
    "\n",
    "q = \"\"\"\n",
    "SELECT datestop, race, count(*) AS stops\n",
    "FROM dataset \n",
    "GROUP BY datestop, race\n",
    "\"\"\"\n",
    "\n",
    "racedf = pysqldf(q)\n",
    "racedf.head()\n",
    "\n",
    "# dataset.groupby(['datestop', 'race'], as_index=False)['race', 'contrabn'].sum()"
   ]
  },
  {
   "cell_type": "code",
   "execution_count": 5,
   "metadata": {
    "collapsed": false
   },
   "outputs": [
    {
     "data": {
      "text/html": [
       "<div>\n",
       "<table border=\"1\" class=\"dataframe\">\n",
       "  <thead>\n",
       "    <tr style=\"text-align: right;\">\n",
       "      <th></th>\n",
       "      <th>datestop</th>\n",
       "      <th>race</th>\n",
       "      <th>stops</th>\n",
       "    </tr>\n",
       "  </thead>\n",
       "  <tbody>\n",
       "    <tr>\n",
       "      <th>1</th>\n",
       "      <td>10012003</td>\n",
       "      <td>A</td>\n",
       "      <td>13</td>\n",
       "    </tr>\n",
       "    <tr>\n",
       "      <th>2</th>\n",
       "      <td>10012003</td>\n",
       "      <td>B</td>\n",
       "      <td>257</td>\n",
       "    </tr>\n",
       "    <tr>\n",
       "      <th>3</th>\n",
       "      <td>10012003</td>\n",
       "      <td>H</td>\n",
       "      <td>24</td>\n",
       "    </tr>\n",
       "    <tr>\n",
       "      <th>4</th>\n",
       "      <td>10012003</td>\n",
       "      <td>H</td>\n",
       "      <td>150</td>\n",
       "    </tr>\n",
       "    <tr>\n",
       "      <th>5</th>\n",
       "      <td>10012003</td>\n",
       "      <td>W</td>\n",
       "      <td>65</td>\n",
       "    </tr>\n",
       "  </tbody>\n",
       "</table>\n",
       "</div>"
      ],
      "text/plain": [
       "   datestop race  stops\n",
       "1  10012003    A     13\n",
       "2  10012003    B    257\n",
       "3  10012003    H     24\n",
       "4  10012003    H    150\n",
       "5  10012003    W     65"
      ]
     },
     "execution_count": 5,
     "metadata": {},
     "output_type": "execute_result"
    }
   ],
   "source": [
    "# Select Subset of Races\n",
    "races = racedf.loc[(racedf.race.str.contains(\"A|B|P|Q|W\")) & (racedf.race.notnull())].copy()\n",
    "\n",
    "# Drop Missing Values\n",
    "races = races.dropna()\n",
    "\n",
    "# Map Black-Hispanic + White-Hispanic to single Hispanic variable\n",
    "races['race'] = races['race'].map({'B':'B', 'W':'W', 'P':'H', 'Q':'H', 'A':'A'})\n",
    "\n",
    "## Map Y/N to 1/0\n",
    "# races['frisked'] = races['frisked'].map({'Y':1, 'N':0})\n",
    "# races['searched'] = races['searched'].map({'Y':1, 'N':0})\n",
    "# races['contrabn'] = races['contrabn'].map({'Y':1, 'N':0})\n",
    "\n",
    "races.head()"
   ]
  },
  {
   "cell_type": "code",
   "execution_count": 6,
   "metadata": {
    "collapsed": true
   },
   "outputs": [],
   "source": [
    "def fix_dates(df):\n",
    "    add_zero = lambda x: str(x).zfill(8)\n",
    "    df['datetime'] = pd.to_datetime(df['datestop'].map(add_zero), format=\"%m%d%Y\", errors='coerce')\n",
    "    \n",
    "    df.loc[races['datetime'].isnull(),'datetime'] = pd.to_datetime(df.loc[df['datetime'].isnull(),'datestop'])\n",
    "\n",
    "    df = (df.drop(['datestop'], 1)\n",
    "            .loc[(races.datetime > '2000-01-01')]\n",
    "            .sort_values('datetime'))\n",
    "    \n",
    "    df['months'] = pd.to_datetime(df['datetime'].map(lambda x: (x.year, x.month, 1)), format='(%Y, %m, %d)')\n",
    "\n",
    "    return df.drop(['datetime'], 1)"
   ]
  },
  {
   "cell_type": "code",
   "execution_count": 7,
   "metadata": {
    "collapsed": false
   },
   "outputs": [
    {
     "data": {
      "text/html": [
       "<div>\n",
       "<table border=\"1\" class=\"dataframe\">\n",
       "  <thead>\n",
       "    <tr style=\"text-align: right;\">\n",
       "      <th></th>\n",
       "      <th>race</th>\n",
       "      <th>stops</th>\n",
       "      <th>months</th>\n",
       "    </tr>\n",
       "  </thead>\n",
       "  <tbody>\n",
       "    <tr>\n",
       "      <th>918</th>\n",
       "      <td>H</td>\n",
       "      <td>59</td>\n",
       "      <td>2003-01-01</td>\n",
       "    </tr>\n",
       "    <tr>\n",
       "      <th>919</th>\n",
       "      <td>W</td>\n",
       "      <td>26</td>\n",
       "      <td>2003-01-01</td>\n",
       "    </tr>\n",
       "    <tr>\n",
       "      <th>917</th>\n",
       "      <td>H</td>\n",
       "      <td>14</td>\n",
       "      <td>2003-01-01</td>\n",
       "    </tr>\n",
       "    <tr>\n",
       "      <th>916</th>\n",
       "      <td>B</td>\n",
       "      <td>146</td>\n",
       "      <td>2003-01-01</td>\n",
       "    </tr>\n",
       "    <tr>\n",
       "      <th>915</th>\n",
       "      <td>A</td>\n",
       "      <td>3</td>\n",
       "      <td>2003-01-01</td>\n",
       "    </tr>\n",
       "    <tr>\n",
       "      <th>1829</th>\n",
       "      <td>W</td>\n",
       "      <td>57</td>\n",
       "      <td>2003-01-01</td>\n",
       "    </tr>\n",
       "    <tr>\n",
       "      <th>1827</th>\n",
       "      <td>H</td>\n",
       "      <td>30</td>\n",
       "      <td>2003-01-01</td>\n",
       "    </tr>\n",
       "    <tr>\n",
       "      <th>1825</th>\n",
       "      <td>B</td>\n",
       "      <td>161</td>\n",
       "      <td>2003-01-01</td>\n",
       "    </tr>\n",
       "    <tr>\n",
       "      <th>1824</th>\n",
       "      <td>A</td>\n",
       "      <td>11</td>\n",
       "      <td>2003-01-01</td>\n",
       "    </tr>\n",
       "    <tr>\n",
       "      <th>1828</th>\n",
       "      <td>H</td>\n",
       "      <td>112</td>\n",
       "      <td>2003-01-01</td>\n",
       "    </tr>\n",
       "  </tbody>\n",
       "</table>\n",
       "</div>"
      ],
      "text/plain": [
       "     race  stops     months\n",
       "918     H     59 2003-01-01\n",
       "919     W     26 2003-01-01\n",
       "917     H     14 2003-01-01\n",
       "916     B    146 2003-01-01\n",
       "915     A      3 2003-01-01\n",
       "1829    W     57 2003-01-01\n",
       "1827    H     30 2003-01-01\n",
       "1825    B    161 2003-01-01\n",
       "1824    A     11 2003-01-01\n",
       "1828    H    112 2003-01-01"
      ]
     },
     "execution_count": 7,
     "metadata": {},
     "output_type": "execute_result"
    }
   ],
   "source": [
    "races = fix_dates(races)\n",
    "races.head(10)"
   ]
  },
  {
   "cell_type": "code",
   "execution_count": 12,
   "metadata": {
    "collapsed": true
   },
   "outputs": [],
   "source": [
    "## Add monthly totals\n",
    "def add_prop(df):\n",
    "    '''Add proportion column to df'''\n",
    "    for month in df.months.unique():\n",
    "        df.loc[(df.months == month), 'month_tot'] = sum(df.loc[(df.months == month), 'stops'])\n",
    "\n",
    "    df['prop'] = df['stops']/df['month_tot']\n",
    "    \n",
    "    return df\n",
    "\n",
    "def add_race_prop(df):\n",
    "    '''Add proportion column to df'''\n",
    "    for month in df.months.unique():\n",
    "        for race in df.race.unique():\n",
    "            df.loc[(df.months == month) & (df.race == race), 'month_tot'] = sum(df.loc[(df.months == month) & (df.race == race), 'stops'])\n",
    "\n",
    "    df['race_prop'] = df['stops']/df['month_tot']\n",
    "    \n",
    "    return df"
   ]
  },
  {
   "cell_type": "code",
   "execution_count": 15,
   "metadata": {
    "collapsed": false
   },
   "outputs": [
    {
     "data": {
      "text/html": [
       "<div>\n",
       "<table border=\"1\" class=\"dataframe\">\n",
       "  <thead>\n",
       "    <tr style=\"text-align: right;\">\n",
       "      <th></th>\n",
       "      <th>months</th>\n",
       "      <th>race</th>\n",
       "      <th>stops</th>\n",
       "      <th>month_tot</th>\n",
       "      <th>prop</th>\n",
       "    </tr>\n",
       "  </thead>\n",
       "  <tbody>\n",
       "    <tr>\n",
       "      <th>0</th>\n",
       "      <td>2003-01-01</td>\n",
       "      <td>A</td>\n",
       "      <td>431</td>\n",
       "      <td>12563</td>\n",
       "      <td>0.034307</td>\n",
       "    </tr>\n",
       "    <tr>\n",
       "      <th>1</th>\n",
       "      <td>2003-01-01</td>\n",
       "      <td>B</td>\n",
       "      <td>6413</td>\n",
       "      <td>12563</td>\n",
       "      <td>0.510467</td>\n",
       "    </tr>\n",
       "    <tr>\n",
       "      <th>2</th>\n",
       "      <td>2003-01-01</td>\n",
       "      <td>H</td>\n",
       "      <td>4077</td>\n",
       "      <td>12563</td>\n",
       "      <td>0.324524</td>\n",
       "    </tr>\n",
       "    <tr>\n",
       "      <th>3</th>\n",
       "      <td>2003-01-01</td>\n",
       "      <td>W</td>\n",
       "      <td>1642</td>\n",
       "      <td>12563</td>\n",
       "      <td>0.130701</td>\n",
       "    </tr>\n",
       "    <tr>\n",
       "      <th>4</th>\n",
       "      <td>2003-02-01</td>\n",
       "      <td>A</td>\n",
       "      <td>282</td>\n",
       "      <td>10017</td>\n",
       "      <td>0.028152</td>\n",
       "    </tr>\n",
       "  </tbody>\n",
       "</table>\n",
       "</div>"
      ],
      "text/plain": [
       "      months race  stops  month_tot      prop\n",
       "0 2003-01-01    A    431      12563  0.034307\n",
       "1 2003-01-01    B   6413      12563  0.510467\n",
       "2 2003-01-01    H   4077      12563  0.324524\n",
       "3 2003-01-01    W   1642      12563  0.130701\n",
       "4 2003-02-01    A    282      10017  0.028152"
      ]
     },
     "execution_count": 15,
     "metadata": {},
     "output_type": "execute_result"
    }
   ],
   "source": [
    "danwin = races.groupby(['months', 'race'], as_index=False)['stops'].sum()\n",
    "danwin = add_prop(danwin)\n",
    "danwin.head()"
   ]
  },
  {
   "cell_type": "code",
   "execution_count": 16,
   "metadata": {
    "collapsed": false
   },
   "outputs": [],
   "source": [
    "danwin.to_csv('danwin.csv', index=False)"
   ]
  },
  {
   "cell_type": "code",
   "execution_count": null,
   "metadata": {
    "collapsed": true
   },
   "outputs": [],
   "source": [
    "# tmp = races.loc[races.race.str.contains('B|W|P|Q')].copy()\n",
    "# tmp['race'] = tmp['race'].map({'B':'B','W':'W','P':'H','Q':'H'})\n",
    "# tmp = tmp.groupby(['monthly', 'race'], as_index=False)['stops', 'prop'].sum()"
   ]
  }
 ],
 "metadata": {
  "kernelspec": {
   "display_name": "Python 3",
   "language": "python",
   "name": "python3"
  },
  "language_info": {
   "codemirror_mode": {
    "name": "ipython",
    "version": 3
   },
   "file_extension": ".py",
   "mimetype": "text/x-python",
   "name": "python",
   "nbconvert_exporter": "python",
   "pygments_lexer": "ipython3",
   "version": "3.5.0"
  }
 },
 "nbformat": 4,
 "nbformat_minor": 0
}
