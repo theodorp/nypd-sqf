{
 "cells": [
  {
   "cell_type": "code",
   "execution_count": 73,
   "metadata": {
    "collapsed": false
   },
   "outputs": [
    {
     "name": "stdout",
     "output_type": "stream",
     "text": [
      "nypd-sqf-data/2003.csv nypd-sqf-data/2004.csv []\n",
      "nypd-sqf-data/2004.csv nypd-sqf-data/2005.csv []\n",
      "nypd-sqf-data/2005.csv nypd-sqf-data/2006.csv ['wepfound', 'dettyp_c', 'details_', 'detail1_', 'rescod', 'premtyp', 'prenam', 'adrnum', 'strname', 'strintr', 'adrpct']\n",
      "nypd-sqf-data/2006.csv nypd-sqf-data/2007.csv ['rescode', 'premtype', 'premname', 'addrnum', 'stname', 'stinter', 'addrpct', 'dettypcm', 'linecm', 'detailcm']\n",
      "nypd-sqf-data/2007.csv nypd-sqf-data/2008.csv []\n",
      "nypd-sqf-data/2008.csv nypd-sqf-data/2009.csv []\n",
      "nypd-sqf-data/2009.csv nypd-sqf-data/2010.csv []\n",
      "nypd-sqf-data/2010.csv nypd-sqf-data/2011.csv ['forceuse']\n",
      "nypd-sqf-data/2011.csv nypd-sqf-data/2012.csv []\n",
      "nypd-sqf-data/2012.csv nypd-sqf-data/2013.csv ['dettypCM', 'lineCM', 'detailCM']\n",
      "nypd-sqf-data/2013.csv nypd-sqf-data/2014.csv []\n"
     ]
    }
   ],
   "source": [
    "import glob\n",
    "from itertools import tee\n",
    "import pandas as pd\n",
    "\n",
    "def pairwise(iterable):\n",
    "    \"s -> (s0,s1), (s1,s2), (s2, s3), ...\"\n",
    "    a, b = tee(iterable)\n",
    "    next(b, None)\n",
    "    return zip(a, b)\n",
    "\n",
    "file_list = glob.glob('nypd-sqf-data/*.csv')\n",
    "# file_list = glob.glob('nypd-sqf-file-specs/*.xlsx')\n",
    "\n",
    "\"\"\"Difference in columns between 2 years (e.g. between 2005 and 2006)\"\"\"\n",
    "for x, y in pairwise(file_list):\n",
    "    df_x = pd.read_csv(x, nrows=2).columns.values\n",
    "    df_y = pd.read_csv(y, nrows=2).columns.values\n",
    "# \n",
    "    s = set(df_x)\n",
    "    print(x, y, [x for x in df_y if x not in s])"
   ]
  },
  {
   "cell_type": "code",
   "execution_count": 28,
   "metadata": {
    "collapsed": false
   },
   "outputs": [
    {
     "name": "stdout",
     "output_type": "stream",
     "text": [
      "{'rf_vcrim', 'cs_furtv', 'rf_bulg', 'pf_baton', 'pf_grnd', 'pf_hands', 'pistol', 'perobs', 'rf_rfcmp', 'ac_time', 'othfeatr', 'comppct', 'ac_cgdir', 'radio', 'cs_lkout', 'asltweap', 'ht_inch', 'ac_inves', 'sb_hdobj', 'rf_attir', 'rf_furt', 'crossst', 'datestop', 'pf_hcuff', 'ac_other', 'crimsusp', 'post', 'typeofid', 'riflshot', 'rf_othsw', 'pf_pepsp', 'sector', 'recstat', 'pf_other', 'sumissue', 'offshld', 'year', 'arstmade', 'othpers', 'dob', 'race', 'frisked', 'adtlrept', 'cs_cloth', 'pf_drwep', 'contrabn', 'zip', 'explnstp', 'searched', 'weight', 'ac_rept', 'rf_knowl', 'ser_num', 'cs_drgtr', 'ac_stsnd', 'sb_outln', 'pct', 'ac_assoc', 'addrtyp', 'age', 'machgun', 'inout', 'othrweap', 'rf_vcact', 'rf_verbl', 'ycoord', 'knifcuti', 'build', 'aptnum', 'offunif', 'offverb', 'xcoord', 'cs_casng', 'sex', 'cs_descr', 'revcmd', 'eyecolor', 'cs_objcs', 'compyear', 'pf_wall', 'sb_admis', 'cs_bulge', 'haircolr', 'state', 'ht_feet', 'perstop', 'ac_evasv', 'ac_proxm', 'city', 'sumoffen', 'beat', 'timestop', 'sb_other', 'pf_ptwep', 'cs_vcrim', 'arstoffn', 'trhsloc', 'repcmd', 'cs_other', 'officrid', 'ac_incid'}\n"
     ]
    }
   ],
   "source": [
    "\"\"\"Prints the common columns between all files\"\"\"\n",
    "common_col = []\n",
    "for file in file_list:\n",
    "        common_col.append(pd.read_csv(file, nrows=1).columns.values)\n",
    "        \n",
    "result = set(common_col[0])\n",
    "for s in common_col[1:]:\n",
    "    result.intersection_update(s)\n",
    "print(result)        "
   ]
  },
  {
   "cell_type": "code",
   "execution_count": 82,
   "metadata": {
    "collapsed": false
   },
   "outputs": [
    {
     "data": {
      "text/plain": [
       "['rescod']"
      ]
     },
     "execution_count": 82,
     "metadata": {},
     "output_type": "execute_result"
    }
   ],
   "source": [
    "\"\"\"Make sure columns of interest are common across all files\"\"\"\n",
    "# common_columns = [entry.strip('\\n') for entry in open('common_columns.txt', 'r').readlines()]\n",
    "common_columns = list(result)\n",
    "columns_of_interest = [entry.strip('\\n') for entry in open('columns-of-interest.txt', 'r').readlines()]\n",
    "[entry for entry in columns_of_interest if entry not in set(common_columns)]"
   ]
  },
  {
   "cell_type": "code",
   "execution_count": null,
   "metadata": {
    "collapsed": true
   },
   "outputs": [],
   "source": []
  }
 ],
 "metadata": {
  "kernelspec": {
   "display_name": "Python 3",
   "language": "python",
   "name": "python3"
  },
  "language_info": {
   "codemirror_mode": {
    "name": "ipython",
    "version": 3
   },
   "file_extension": ".py",
   "mimetype": "text/x-python",
   "name": "python",
   "nbconvert_exporter": "python",
   "pygments_lexer": "ipython3",
   "version": "3.5.0"
  }
 },
 "nbformat": 4,
 "nbformat_minor": 0
}
